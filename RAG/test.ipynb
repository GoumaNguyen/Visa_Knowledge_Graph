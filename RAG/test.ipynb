{
 "cells": [
  {
   "cell_type": "markdown",
   "metadata": {},
   "source": [
    "### I. Chunk text"
   ]
  },
  {
   "cell_type": "code",
   "execution_count": 1,
   "metadata": {},
   "outputs": [],
   "source": [
    "from langchain.embeddings import HuggingFaceEmbeddings\n",
    "from langchain.vectorstores import Chroma\n",
    "from langchain.text_splitter import RecursiveCharacterTextSplitter"
   ]
  },
  {
   "cell_type": "code",
   "execution_count": 2,
   "metadata": {},
   "outputs": [],
   "source": [
    "# Đọc file và tách văn bản theo định dạng \"số + .\"\n",
    "def read_and_chunk_file(file_path):\n",
    "    with open(file_path, 'r', encoding='utf-8') as file:\n",
    "        content = file.read()\n",
    "\n",
    "    # Tách văn bản dựa trên các chỉ mục \"số + .\"\n",
    "    text_splitter = RecursiveCharacterTextSplitter(\n",
    "        separators=[\"\\n\", \".\"], chunk_size=200, chunk_overlap=30\n",
    "    )\n",
    "    chunks = text_splitter.split_text(content)\n",
    "    return chunks"
   ]
  },
  {
   "cell_type": "code",
   "execution_count": 3,
   "metadata": {},
   "outputs": [
    {
     "data": {
      "text/plain": [
       "['1. Subclass 601\\n2. Electronic Travel Authority\\nUp to 3 months at a time\\nThere is a service charge of AUD20 to use the Australian ETA app. There is no other charge payable for an ETA.',\n",
       " 'In most cases you will be notified of the result of your ETA application immediately',\n",
       " '. Your application may take longer if you do not complete the application process correctly or we require further information. We recommend that you apply well ahead of when you want to travel.',\n",
       " 'See all conditions\\n3. With this visa you can\\nTravel to Australia:',\n",
       " 'Travel to Australia:\\nYou can study or train for up to 3 months in total on this visa. If your main reason for travelling to Australia is to study, you should apply for\\xa0a student visa.',\n",
       " 'Note: You should apply for a Visitor (subclass 600) visa and complete the relevant health checks if you are seeking to:\\nYou will need a visa if you enter Australia during a cruise.',\n",
       " 'If your cruise is a round trip cruise starting from Australia, the time you spend on the cruise counts as time spent in Australia - that is, we do not consider you have left Australia',\n",
       " '. A round trip cruise will not reset your stay period on your visa.',\n",
       " \"Ask your cruise operator or travel agent if we consider your cruise to be a round trip cruise.\\nAs a business visitor, you can:\\nYou can't:\",\n",
       " 'The ETA is not a work visa. You cannot undertake paid work for an Australian employer. If you work or intend to work in Australia on an ETA, your ETA may be cancelled',\n",
       " '. You may be removed or refused entry to Australia.',\n",
       " 'To work in Australia, you must hold a visa that permits you to work. See Working in Australia.\\n4. How long you can stay',\n",
       " '4. How long you can stay\\nThis is a temporary visa. It is valid for travel to Australia for either 12 months, or for\\xa0the period your passport is valid, whichever is shorter.',\n",
       " 'The visa is granted with multiple entry. You can leave and re-enter Australia as many times as you want while it is valid. You can remain in Australia for 3 months after each entry.',\n",
       " 'If you stay in Australia for long periods or make frequent visits to Australia, we may ask you about your travel purpose next time you enter Australia',\n",
       " '. If you are found not to be a genuine visitor, your ETA may be cancelled.',\n",
       " 'If you want to stay longer than 3 months at a time, you need to apply for a different visa that suits your circumstances.',\n",
       " 'The 12 month visa period starts on the date it is granted unless you hold another substantive visa that is already in effect.\\n5. Stay longer',\n",
       " \"5. Stay longer\\nYou can't stay in Australia longer by extending this visa. You must apply for another visa.\\nTo find out about other visas, explore your visa options.\",\n",
       " 'If you remain in Australia after your ETA ceases, and do not hold another visa to remain, you will become an unlawful non-citizen and you may be removed from Australia.\\n6. Including family',\n",
       " \"You can't include family members, such as children or your spouse, in your application. Each family member, including those listed on your passport, must submit a separate application.\\n7. Cost\",\n",
       " '7. Cost\\nThere is no Visa Application Charge (VAC) however there is an application service fee of AUD20 to use the Australian ETA app.\\n8. Apply from',\n",
       " '8. Apply from\\nYou must be outside Australia when you apply for the ETA and outside Australia when the visa is granted.\\n9. Processing times',\n",
       " '9. Processing times\\nIn most cases, you will be notified of the result of your ETA application immediately.\\nYour application might take longer to process if:',\n",
       " 'If you have a criminal conviction in any country, we will need more information from you. You should apply for a Visitor visa (subclass 600) and provide evidence about your criminal convictions.',\n",
       " '10. Your obligations\\nYou must meet all visa conditions and obey Australian laws.\\n11. Health insurance',\n",
       " 'We recommend you take out health insurance to cover any unforeseen medical treatment you might need in Australia. You are personally liable for all your healthcare costs while you are in Australia',\n",
       " '. Insurance can help limit your financial liability.',\n",
       " 'See what we consider adequate health insurance.\\nLearn more about health insurance for overseas visitors.',\n",
       " 'Some countries have a reciprocal healthcare agreement with Australia. Find out more from Services Australia\\xa0about reciprocal healthcare agreements.\\n12. Travel',\n",
       " '12. Travel\\nYou can travel outside Australia and return as many times as you want while the visa is valid.\\n13. Visa label',\n",
       " '13. Visa label\\nWe will digitally link your visa to your passport. You will not get a label in your passport.\\u200b\\u200b',\n",
       " 'Your ETA is attached to your current passport. If your current passport expires or you get a new passport:\\n14. Other visas',\n",
       " 'If you hold a Maritime Crew visa or a Special Purpose visa and you are granted an ETA, you will hold both visas concurrently. When you arrive in Australia,\\xa0you will enter on both visas',\n",
       " '. You can stay in Australia for the longer of the 2 visa periods.',\n",
       " \"If the longer period exceeds 3 months the ETA will cease, but you can remain for the duration of the other visa's stay period.\",\n",
       " 'If you hold any other substantive visa and an ETA when you arrive in Australia, you will enter Australia on your other substantive visa, not your ETA',\n",
       " '. Your ETA will come into effect when the other visa ceases.',\n",
       " 'However, the 3-month ETA stay period still begins when you enter Australia.',\n",
       " 'Check your other substantive visa is valid for more than 3 months if you want to stay in Australia longer than the 3-month ETA stay period.',\n",
       " 'You must hold a valid passport from one of these countries to be eligible for an ETA',\n",
       " '. You cannot apply for an ETA with a non-citizen passport, certificate of identity or other travel document, such as a Titre de Voyage.',\n",
       " 'If you hold more than one passport, you must declare this in your ETA application and provide details of your other passports.',\n",
       " 'If you hold an ETA eligible passport, but you are also an Australian citizen, you cannot\\xa0apply for an ETA',\n",
       " '. Australian citizens have an automatic right of entry and do not need a visa to enter Australia. See Travelling as a dual citizen.',\n",
       " 'You must only intend\\xa0to stay temporarily in Australia and obey any condition or stay period attached to your visa.\\nYou must meet our\\xa0health requirement.',\n",
       " 'Where a visa applicant has previously\\xa0failed to meet\\xa0the health requirement, the most appropriate visa for these applicants is a Vistor (subclass 600) visa.',\n",
       " 'If you will be entering health care or hospital environments, you should apply for a Visitor (subclass 600) visa.\\nYou must meet our\\xa0character requirement.',\n",
       " 'If you have a criminal conviction in any country, you should\\xa0apply for a\\xa0Visitor visa (subclass 600)\\xa0and provide evidence about your criminal convictions.',\n",
       " 'If you are granted an ETA, but we find that you provided incorrect information, your ETA may be\\xa0cancelled.',\n",
       " \"If you or any family members (including those who don't apply for the visa with you) owe the Australian Government money, you or they must have paid\\xa0it back or have arranged to pay it back.\",\n",
       " 'We might not grant this visa if it is not in the best interests of an applicant under 18.',\n",
       " 'Travel industry representatives can use the Australian ETA app to assist you in lodging an application. They must take a live facial image\\xa0of you when they lodge the application',\n",
       " '. Failure to take a live image may result in your visa not being granted.',\n",
       " 'More information for industry representatives is available at:\\nTo apply for an ETA using the Australian ETA app, you need to have:',\n",
       " \"You can't include family members in your application. Each family member, including those listed on your passport, must submit a separate application\",\n",
       " '. If all family members apply using the same mobile device, you can submit and pay for the applications at the same time.',\n",
       " 'You can get help from a friend or family member to apply through the app but you must be physically with them when you apply',\n",
       " '. Authorised travel agents and industry representatives can also make an ETA application on your behalf using the app.',\n",
       " 'More information for industry representatives is available at:',\n",
       " 'If an agent makes the application on your behalf, you must still be physically present when they make the application',\n",
       " '. You will need to have your photo taken and have your passport available for scanning.',\n",
       " 'After you have downloaded and opened the app on your mobile device, you need to:',\n",
       " 'Note: You must check that all details of your application, including name and date of birth, are correct before submitting your application',\n",
       " '. You must also check that you have answered all questions in the app correctly.',\n",
       " 'If you need more help, check the Frequently Asked Questions within the app.',\n",
       " 'If you are ineligible or unable to apply for an ETA using the Australian ETA app, you can apply online for another visa that suits your needs through ImmiAccount.',\n",
       " 'European passport holders may be eligible for an\\xa0eVisitor (subclass 651) visa.\\nThere is no charge to make an eVisitor application.',\n",
       " 'Other passport holders may be eligible for a Visitor (subclass 600) visa.\\nWhen applying, you must truthfully answer all questions. This includes declaring:',\n",
       " 'If you do not provide accurate information your ETA may be cancelled.',\n",
       " 'If your ETA details do not exactly match your passport details you might experience delays when boarding your aircraft or be refused entry in Australia.',\n",
       " 'We cannot change the details on an ETA once it has been issued.',\n",
       " 'In most cases, you will be notified of the result of your ETA application immediately. Sometimes there will be a delay before receiving your notification',\n",
       " '. Check your emails, including your junk mail folder, for a written notification from us.',\n",
       " 'Your application might take longer to process if:',\n",
       " 'If you have a criminal conviction in any country, we will need more information from you. You should\\xa0apply for a\\xa0Visitor (subclass 600) visa\\xa0and provide evidence about your criminal convictions.',\n",
       " \"Don't arrange to travel to Australia until we let you know, in writing, that we have granted you the visa.\",\n",
       " 'We will let you know our decision on your visa application in writing. If the visa is granted we will tell you:\\nYou should keep a copy of our decision with you while in Australia.',\n",
       " 'If we refuse your visa we will let you know in writing. We will tell you why we refused your visa and whether you have a right to a review of the decision.',\n",
       " 'You will receive a letter detailing how to provide this information. You must:',\n",
       " 'If your application cannot be processed without further information you can also consider applying for another visa that is suitable for your travel needs. See\\xa0explore your visa options',\n",
       " 'Please do not submit further ETA applications through the Australian ETA app. You will receive the same results.\\nYou must have:',\n",
       " 'You must have:\\nYour ETA is electronically linked to the passport you used to apply for your ETA. You must enter Australia using the same passport. If this passport expires or you get a new passport:',\n",
       " 'Everyone who arrives in Australia must complete an\\xa0Incoming Passenger Card.',\n",
       " 'A SmartGate is an automated process that uses facial recognition technology and your ePassport. You might be able to leave the airport faster if you use\\xa0SmartGate.',\n",
       " 'You must meet all visa conditions and obey Australian laws. See your conditions in your visa grant letter or\\xa0VEVO.',\n",
       " 'If you breach any visa conditions, your ETA may be\\xa0cancelled. You may be removed or refused entry to Australia.\\nYou can check the details and status of your ETA in\\xa0VEVO.',\n",
       " 'You can also check the status of your application on the Australian ETA App by using the “Visa check” function.',\n",
       " 'Your ETA is electronically linked to the passport you used to apply for your ETA. You must enter Australia using the same passport',\n",
       " '. If this passport expires or you get a new passport, your ETA will cease and you must apply for a new ETA.',\n",
       " 'You can travel to Australia:\\nYou can study or train for up to 3 months in total on an ETA. If your main reason for travelling to Australia is to study, you should apply for a student visa.',\n",
       " \"As a business visitor, you can:\\nYou can't:\\nIf you want to work in Australia, you need to apply for a visa that allows work.\\nTo see your specific conditions use\\xa0VEVO.\",\n",
       " 'If you work or intend to work in Australia on an ETA, or breach your visa conditions, your ETA may be\\xa0cancelled. You may be removed or refused entry to Australia.',\n",
       " 'The ETA is granted with multiple entry. You can leave and re-enter Australia as many times as you want while it is valid. You can stay in Australia for up to 3 months on each entry.',\n",
       " 'If you stay in Australia for long periods or make frequent visits to Australia, we may ask you about your travel purpose next time you enter Australia',\n",
       " '. If you are found not to be a genuine visitor, your ETA may be\\xa0cancelled.',\n",
       " \"See when you must leave in\\xa0VEVO.\\nYou can't stay in Australia longer by extending an ETA. You must apply for a new visa if you want to stay longer.\\xa0See your options.\",\n",
       " 'To prove you have an ETA\\xa0and show your conditions to someone, use\\xa0VEVO.\\nYou must have a valid passport or other travel document to leave Australia.',\n",
       " 'We have an automated process that uses facial recognition technology and your ePassport. You might be able to leave the airport faster if you use SmartGate.',\n",
       " 'To get proof of your travel in and out of Australia, request your international movement records.']"
      ]
     },
     "execution_count": 3,
     "metadata": {},
     "output_type": "execute_result"
    }
   ],
   "source": [
    "# Đọc file và chia thành các chunks\n",
    "file_path = '../Knowledge_Graph/Data/content only ver4/visa1.1.txt'\n",
    "chunks = read_and_chunk_file(file_path)\n",
    "\n",
    "chunks"
   ]
  },
  {
   "cell_type": "code",
   "execution_count": 4,
   "metadata": {},
   "outputs": [
    {
     "name": "stderr",
     "output_type": "stream",
     "text": [
      "C:\\Users\\ADMIN\\AppData\\Local\\Temp\\ipykernel_8536\\3961047193.py:3: LangChainDeprecationWarning: The class `HuggingFaceEmbeddings` was deprecated in LangChain 0.2.2 and will be removed in 1.0. An updated version of the class exists in the :class:`~langchain-huggingface package and should be used instead. To use it run `pip install -U :class:`~langchain-huggingface` and import as `from :class:`~langchain_huggingface import HuggingFaceEmbeddings``.\n",
      "  embedding = HuggingFaceEmbeddings()\n",
      "C:\\Users\\ADMIN\\AppData\\Local\\Temp\\ipykernel_8536\\3961047193.py:3: LangChainDeprecationWarning: Default values for HuggingFaceEmbeddings.model_name were deprecated in LangChain 0.2.16 and will be removed in 0.4.0. Explicitly pass a model_name to the HuggingFaceEmbeddings constructor instead.\n",
      "  embedding = HuggingFaceEmbeddings()\n"
     ]
    },
    {
     "data": {
      "application/vnd.jupyter.widget-view+json": {
       "model_id": "733be7761ed34bcfb8b20ee60e36be98",
       "version_major": 2,
       "version_minor": 0
      },
      "text/plain": [
       "Downloading modules.json:   0%|          | 0.00/349 [00:00<?, ?B/s]"
      ]
     },
     "metadata": {},
     "output_type": "display_data"
    },
    {
     "name": "stderr",
     "output_type": "stream",
     "text": [
      "d:\\Program\\Py311\\Lib\\site-packages\\huggingface_hub\\file_download.py:137: UserWarning: `huggingface_hub` cache-system uses symlinks by default to efficiently store duplicated files but your machine does not support them in C:\\Users\\ADMIN\\.cache\\huggingface\\hub. Caching files will still work but in a degraded version that might require more space on your disk. This warning can be disabled by setting the `HF_HUB_DISABLE_SYMLINKS_WARNING` environment variable. For more details, see https://huggingface.co/docs/huggingface_hub/how-to-cache#limitations.\n",
      "To support symlinks on Windows, you either need to activate Developer Mode or to run Python as an administrator. In order to see activate developer mode, see this article: https://docs.microsoft.com/en-us/windows/apps/get-started/enable-your-device-for-development\n",
      "  warnings.warn(message)\n"
     ]
    },
    {
     "data": {
      "application/vnd.jupyter.widget-view+json": {
       "model_id": "6e2d434235314607b36b069fbe75eda9",
       "version_major": 2,
       "version_minor": 0
      },
      "text/plain": [
       "Downloading (…)ce_transformers.json:   0%|          | 0.00/116 [00:00<?, ?B/s]"
      ]
     },
     "metadata": {},
     "output_type": "display_data"
    },
    {
     "data": {
      "application/vnd.jupyter.widget-view+json": {
       "model_id": "8920a4e30e5343dc8bcb2de705b13137",
       "version_major": 2,
       "version_minor": 0
      },
      "text/plain": [
       "Downloading README.md:   0%|          | 0.00/10.6k [00:00<?, ?B/s]"
      ]
     },
     "metadata": {},
     "output_type": "display_data"
    },
    {
     "data": {
      "application/vnd.jupyter.widget-view+json": {
       "model_id": "f9d2eb2334384eb097dec2288045ecca",
       "version_major": 2,
       "version_minor": 0
      },
      "text/plain": [
       "Downloading (…)nce_bert_config.json:   0%|          | 0.00/53.0 [00:00<?, ?B/s]"
      ]
     },
     "metadata": {},
     "output_type": "display_data"
    },
    {
     "data": {
      "application/vnd.jupyter.widget-view+json": {
       "model_id": "51a2344d26504f249098352ec94a09ed",
       "version_major": 2,
       "version_minor": 0
      },
      "text/plain": [
       "Downloading config.json:   0%|          | 0.00/571 [00:00<?, ?B/s]"
      ]
     },
     "metadata": {},
     "output_type": "display_data"
    },
    {
     "data": {
      "application/vnd.jupyter.widget-view+json": {
       "model_id": "c36c7d86ff8f462b99402c0e2caec37d",
       "version_major": 2,
       "version_minor": 0
      },
      "text/plain": [
       "Downloading model.safetensors:   0%|          | 0.00/438M [00:00<?, ?B/s]"
      ]
     },
     "metadata": {},
     "output_type": "display_data"
    },
    {
     "data": {
      "application/vnd.jupyter.widget-view+json": {
       "model_id": "709e7ac9f513431192eab85ae9d983a1",
       "version_major": 2,
       "version_minor": 0
      },
      "text/plain": [
       "Downloading tokenizer_config.json:   0%|          | 0.00/363 [00:00<?, ?B/s]"
      ]
     },
     "metadata": {},
     "output_type": "display_data"
    },
    {
     "data": {
      "application/vnd.jupyter.widget-view+json": {
       "model_id": "bc67011e060f4312b118f71a748b1c3c",
       "version_major": 2,
       "version_minor": 0
      },
      "text/plain": [
       "Downloading vocab.txt:   0%|          | 0.00/232k [00:00<?, ?B/s]"
      ]
     },
     "metadata": {},
     "output_type": "display_data"
    },
    {
     "data": {
      "application/vnd.jupyter.widget-view+json": {
       "model_id": "bb857bfbdcb44ea6bc04daf6c4df1c23",
       "version_major": 2,
       "version_minor": 0
      },
      "text/plain": [
       "Downloading tokenizer.json:   0%|          | 0.00/466k [00:00<?, ?B/s]"
      ]
     },
     "metadata": {},
     "output_type": "display_data"
    },
    {
     "data": {
      "application/vnd.jupyter.widget-view+json": {
       "model_id": "f9d70c069c054aa2b47bdbb94cdcd689",
       "version_major": 2,
       "version_minor": 0
      },
      "text/plain": [
       "Downloading (…)cial_tokens_map.json:   0%|          | 0.00/239 [00:00<?, ?B/s]"
      ]
     },
     "metadata": {},
     "output_type": "display_data"
    },
    {
     "data": {
      "application/vnd.jupyter.widget-view+json": {
       "model_id": "7cc15cb582664b11b8054bb8cd265146",
       "version_major": 2,
       "version_minor": 0
      },
      "text/plain": [
       "Downloading 1_Pooling/config.json:   0%|          | 0.00/190 [00:00<?, ?B/s]"
      ]
     },
     "metadata": {},
     "output_type": "display_data"
    },
    {
     "ename": "",
     "evalue": "",
     "output_type": "error",
     "traceback": [
      "\u001b[1;31mThe Kernel crashed while executing code in the the current cell or a previous cell. Please review the code in the cell(s) to identify a possible cause of the failure. Click <a href='https://aka.ms/vscodeJupyterKernelCrash'>here</a> for more info. View Jupyter <a href='command:jupyter.viewOutput'>log</a> for further details."
     ]
    }
   ],
   "source": [
    "# Sử dụng HuggingFaceEmbeddings để mã hóa các chunks\n",
    "# Thay thế model embedding\n",
    "embedding = HuggingFaceEmbeddings()\n",
    "vector_store = Chroma.from_texts(chunks, embedding)\n",
    "\n",
    "# Đặt câu hỏi và tìm các chunk có độ tương đồng cao nhất\n",
    "query = \"How long i can stay?\"\n",
    "docs_with_scores = vector_store.similarity_search_with_score(query, k=5)\n",
    "\n",
    "# In ra top 5 chunk có độ tương đồng cao nhất\n",
    "for doc, score in docs_with_scores:\n",
    "    print(f\"Chunk: {doc}\\nScore: {score}\\n\")"
   ]
  }
 ],
 "metadata": {
  "kernelspec": {
   "display_name": "Python 3",
   "language": "python",
   "name": "python3"
  },
  "language_info": {
   "codemirror_mode": {
    "name": "ipython",
    "version": 3
   },
   "file_extension": ".py",
   "mimetype": "text/x-python",
   "name": "python",
   "nbconvert_exporter": "python",
   "pygments_lexer": "ipython3",
   "version": "3.11.3"
  }
 },
 "nbformat": 4,
 "nbformat_minor": 2
}
