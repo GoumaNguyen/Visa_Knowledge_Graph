{
 "cells": [
  {
   "cell_type": "markdown",
   "metadata": {},
   "source": [
    "### I. Chunk text"
   ]
  },
  {
   "cell_type": "code",
   "execution_count": 6,
   "metadata": {},
   "outputs": [],
   "source": [
    "from langchain.embeddings import HuggingFaceEmbeddings\n",
    "from langchain.vectorstores import Chroma\n",
    "from langchain.text_splitter import RecursiveCharacterTextSplitter"
   ]
  },
  {
   "cell_type": "code",
   "execution_count": 1,
   "metadata": {},
   "outputs": [],
   "source": [
    "import os\n",
    "import json"
   ]
  },
  {
   "cell_type": "code",
   "execution_count": 11,
   "metadata": {},
   "outputs": [],
   "source": [
    "# Đọc file và tách văn bản theo định dạng \"số + .\"\n",
    "def read_and_chunk_file(content):\n",
    "    # Tách văn bản dựa trên các chỉ mục \"số + .\"\n",
    "    text_splitter = RecursiveCharacterTextSplitter(\n",
    "        separators=[\"\\n\", \".\"], chunk_size=300, chunk_overlap=50\n",
    "    )\n",
    "    chunks = text_splitter.split_text(content)\n",
    "    return chunks"
   ]
  },
  {
   "cell_type": "code",
   "execution_count": 12,
   "metadata": {},
   "outputs": [],
   "source": [
    "def read_json_files(folder_path):\n",
    "    visa_chunks = []  # Danh sách để lưu các chunk và metadata\n",
    "\n",
    "    # Duyệt qua các file trong thư mục\n",
    "    for filename in os.listdir(folder_path):\n",
    "        if filename.endswith(\".json\"):  # Chỉ xử lý các file .json\n",
    "            file_path = os.path.join(folder_path, filename)\n",
    "            with open(file_path, 'r', encoding='utf-8') as file:\n",
    "                data = json.load(file)\n",
    "                # Lấy thông tin từ mỗi file JSON\n",
    "                visa_id = data.get(\"visaID\")\n",
    "                visa_name = data.get(\"visaName\")\n",
    "                content = data.get(\"content\")\n",
    "\n",
    "                # Sử dụng hàm read_and_chunk_file để tách nội dung\n",
    "                chunks = read_and_chunk_file(content)\n",
    "\n",
    "                # Tạo metadata cho từng chunk\n",
    "                for chunk in chunks:\n",
    "                    visa_chunks.append({\n",
    "                        \"text\": chunk,\n",
    "                        \"metadata\": {\n",
    "                            \"visa_id\": visa_id,\n",
    "                            \"visa_name\": visa_name\n",
    "                        }\n",
    "                    })\n",
    "\n",
    "    return visa_chunks"
   ]
  },
  {
   "cell_type": "code",
   "execution_count": 13,
   "metadata": {},
   "outputs": [
    {
     "name": "stdout",
     "output_type": "stream",
     "text": [
      "Chunk: 1. Subclass 601\n",
      "2. Electronic Travel Authority\n",
      "Up to 3 months at a time\n",
      "There is a service charge of AUD20 to use the Australian ETA app. There is no other charge payable for an ETA.\n",
      "Metadata: {'visa_id': 'visa1.1', 'visa_name': 'Electronic Travel Authority (subclass 601)'}\n",
      "\n",
      "Chunk: In most cases you will be notified of the result of your ETA application immediately. Your application may take longer if you do not complete the application process correctly or we require further information. We recommend that you apply well ahead of when you want to travel.\n",
      "See all conditions\n",
      "Metadata: {'visa_id': 'visa1.1', 'visa_name': 'Electronic Travel Authority (subclass 601)'}\n",
      "\n",
      "Chunk: See all conditions\n",
      "3. With this visa you can\n",
      "Travel to Australia:\n",
      "You can study or train for up to 3 months in total on this visa. If your main reason for travelling to Australia is to study, you should apply for a student visa.\n",
      "Metadata: {'visa_id': 'visa1.1', 'visa_name': 'Electronic Travel Authority (subclass 601)'}\n",
      "\n",
      "Chunk: Note: You should apply for a Visitor (subclass 600) visa and complete the relevant health checks if you are seeking to:\n",
      "You will need a visa if you enter Australia during a cruise.\n",
      "Metadata: {'visa_id': 'visa1.1', 'visa_name': 'Electronic Travel Authority (subclass 601)'}\n",
      "\n",
      "Chunk: If your cruise is a round trip cruise starting from Australia, the time you spend on the cruise counts as time spent in Australia - that is, we do not consider you have left Australia. A round trip cruise will not reset your stay period on your visa.\n",
      "Metadata: {'visa_id': 'visa1.1', 'visa_name': 'Electronic Travel Authority (subclass 601)'}\n",
      "\n"
     ]
    }
   ],
   "source": [
    "# Thư mục chứa các file JSON\n",
    "folder_path = '../Knowledge_Graph/Data/crawled_v1/'\n",
    "\n",
    "# Đọc các file JSON và tạo ra metadata và chunks\n",
    "visa_chunks = read_json_files(folder_path)\n",
    "\n",
    "# In ra một số kết quả\n",
    "for chunk in visa_chunks[:5]:  # In ra 5 chunk đầu tiên để kiểm tra\n",
    "    print(f\"Chunk: {chunk['text']}\\nMetadata: {chunk['metadata']}\\n\")"
   ]
  },
  {
   "cell_type": "code",
   "execution_count": 6,
   "metadata": {},
   "outputs": [
    {
     "name": "stderr",
     "output_type": "stream",
     "text": [
      "C:\\Users\\ADMIN\\AppData\\Local\\Temp\\ipykernel_62336\\3961047193.py:3: LangChainDeprecationWarning: The class `HuggingFaceEmbeddings` was deprecated in LangChain 0.2.2 and will be removed in 1.0. An updated version of the class exists in the :class:`~langchain-huggingface package and should be used instead. To use it run `pip install -U :class:`~langchain-huggingface` and import as `from :class:`~langchain_huggingface import HuggingFaceEmbeddings``.\n",
      "  embedding = HuggingFaceEmbeddings()\n",
      "C:\\Users\\ADMIN\\AppData\\Local\\Temp\\ipykernel_62336\\3961047193.py:3: LangChainDeprecationWarning: Default values for HuggingFaceEmbeddings.model_name were deprecated in LangChain 0.2.16 and will be removed in 0.4.0. Explicitly pass a model_name to the HuggingFaceEmbeddings constructor instead.\n",
      "  embedding = HuggingFaceEmbeddings()\n"
     ]
    },
    {
     "ename": "",
     "evalue": "",
     "output_type": "error",
     "traceback": [
      "\u001b[1;31mThe Kernel crashed while executing code in the the current cell or a previous cell. Please review the code in the cell(s) to identify a possible cause of the failure. Click <a href='https://aka.ms/vscodeJupyterKernelCrash'>here</a> for more info. View Jupyter <a href='command:jupyter.viewOutput'>log</a> for further details."
     ]
    }
   ],
   "source": [
    "# Sử dụng HuggingFaceEmbeddings để mã hóa các chunks\n",
    "# Thay thế model embedding\n",
    "embedding = HuggingFaceEmbeddings()\n",
    "vector_store = Chroma.from_texts(chunks, embedding)\n",
    "\n",
    "# Đặt câu hỏi và tìm các chunk có độ tương đồng cao nhất\n",
    "query = \"How long i can stay?\"\n",
    "docs_with_scores = vector_store.similarity_search_with_score(query, k=5)\n",
    "\n",
    "# In ra top 5 chunk có độ tương đồng cao nhất\n",
    "for doc, score in docs_with_scores:\n",
    "    print(f\"Chunk: {doc}\\nScore: {score}\\n\")"
   ]
  }
 ],
 "metadata": {
  "kernelspec": {
   "display_name": "Python 3",
   "language": "python",
   "name": "python3"
  },
  "language_info": {
   "codemirror_mode": {
    "name": "ipython",
    "version": 3
   },
   "file_extension": ".py",
   "mimetype": "text/x-python",
   "name": "python",
   "nbconvert_exporter": "python",
   "pygments_lexer": "ipython3",
   "version": "3.11.3"
  }
 },
 "nbformat": 4,
 "nbformat_minor": 2
}
